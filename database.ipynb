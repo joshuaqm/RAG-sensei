{
 "cells": [
  {
   "cell_type": "code",
   "execution_count": 1,
   "id": "4677a97c",
   "metadata": {},
   "outputs": [],
   "source": [
    "from langchain_ollama import OllamaEmbeddings\n",
    "from langchain_text_splitters import RecursiveCharacterTextSplitter\n",
    "\n",
    "from langchain_core.documents import Document\n",
    "from langchain_chroma import Chroma\n",
    "\n",
    "import uuid\n",
    "from langchain_community.document_loaders import PyPDFLoader"
   ]
  },
  {
   "cell_type": "code",
   "execution_count": 2,
   "id": "15371c66",
   "metadata": {},
   "outputs": [],
   "source": [
    "text_splitter = RecursiveCharacterTextSplitter(\n",
    "    chunk_size=510, \n",
    "    chunk_overlap=50,\n",
    "    length_function=len,\n",
    "    separators=[\"\\n\", \".\", \"\\n\\n\"]\n",
    ")"
   ]
  },
  {
   "cell_type": "code",
   "execution_count": 3,
   "id": "ee3a36dd",
   "metadata": {},
   "outputs": [],
   "source": [
    "# Probar distintos modelos de embeddings\n",
    "embeddings_generator = OllamaEmbeddings(\n",
    "    model='mxbai-embed-large:latest',\n",
    ")"
   ]
  },
  {
   "cell_type": "code",
   "execution_count": 4,
   "id": "9691a8c0",
   "metadata": {},
   "outputs": [],
   "source": [
    "chroma_db_path = \"./database/chroma_db\"\n",
    "\n",
    "vector_store = Chroma(\n",
    "    persist_directory=chroma_db_path,\n",
    "    embedding_function=embeddings_generator,\n",
    "    collection_name=\"kanji\"\n",
    ")"
   ]
  },
  {
   "cell_type": "code",
   "execution_count": null,
   "id": "74065306",
   "metadata": {},
   "outputs": [
    {
     "ename": "UnicodeDecodeError",
     "evalue": "'charmap' codec can't decode byte 0x81 in position 694: character maps to <undefined>",
     "output_type": "error",
     "traceback": [
      "\u001b[31m---------------------------------------------------------------------------\u001b[39m",
      "\u001b[31mUnicodeDecodeError\u001b[39m                        Traceback (most recent call last)",
      "\u001b[36mCell\u001b[39m\u001b[36m \u001b[39m\u001b[32mIn[5]\u001b[39m\u001b[32m, line 6\u001b[39m\n\u001b[32m      3\u001b[39m txt_text = \u001b[33m'\u001b[39m\u001b[33m'\u001b[39m\n\u001b[32m      5\u001b[39m \u001b[38;5;28;01mwith\u001b[39;00m \u001b[38;5;28mopen\u001b[39m(txt_path, \u001b[33m'\u001b[39m\u001b[33mr\u001b[39m\u001b[33m'\u001b[39m) \u001b[38;5;28;01mas\u001b[39;00m file:\n\u001b[32m----> \u001b[39m\u001b[32m6\u001b[39m     txt_text = \u001b[43mfile\u001b[49m\u001b[43m.\u001b[49m\u001b[43mread\u001b[49m\u001b[43m(\u001b[49m\u001b[43m)\u001b[49m\n\u001b[32m      8\u001b[39m \u001b[38;5;28mprint\u001b[39m(\u001b[38;5;28mlen\u001b[39m(txt_text))\n",
      "\u001b[36mFile \u001b[39m\u001b[32mC:\\Python313\\Lib\\encodings\\cp1252.py:23\u001b[39m, in \u001b[36mIncrementalDecoder.decode\u001b[39m\u001b[34m(self, input, final)\u001b[39m\n\u001b[32m     22\u001b[39m \u001b[38;5;28;01mdef\u001b[39;00m\u001b[38;5;250m \u001b[39m\u001b[34mdecode\u001b[39m(\u001b[38;5;28mself\u001b[39m, \u001b[38;5;28minput\u001b[39m, final=\u001b[38;5;28;01mFalse\u001b[39;00m):\n\u001b[32m---> \u001b[39m\u001b[32m23\u001b[39m     \u001b[38;5;28;01mreturn\u001b[39;00m \u001b[43mcodecs\u001b[49m\u001b[43m.\u001b[49m\u001b[43mcharmap_decode\u001b[49m\u001b[43m(\u001b[49m\u001b[38;5;28;43minput\u001b[39;49m\u001b[43m,\u001b[49m\u001b[38;5;28;43mself\u001b[39;49m\u001b[43m.\u001b[49m\u001b[43merrors\u001b[49m\u001b[43m,\u001b[49m\u001b[43mdecoding_table\u001b[49m\u001b[43m)\u001b[49m[\u001b[32m0\u001b[39m]\n",
      "\u001b[31mUnicodeDecodeError\u001b[39m: 'charmap' codec can't decode byte 0x81 in position 694: character maps to <undefined>"
     ]
    }
   ],
   "source": [
    "# Documentos txt\n",
    "txt_path = './database/docs/txt/kanji.txt'\n",
    "txt_text = ''\n",
    "\n",
    "with open(txt_path, 'r', encoding='utf-8') as file:\n",
    "    txt_text = file.read()\n",
    "\n",
    "print(len(txt_text))"
   ]
  },
  {
   "cell_type": "code",
   "execution_count": null,
   "id": "ea815a00",
   "metadata": {},
   "outputs": [],
   "source": [
    "text_chunks = text_splitter.split_text(txt_text)\n",
    "print(len(text_chunks))"
   ]
  },
  {
   "cell_type": "code",
   "execution_count": null,
   "id": "8ccc4d47",
   "metadata": {},
   "outputs": [],
   "source": [
    "for chunk in text_chunks:\n",
    "    document = Document(\n",
    "        id=str(uuid.uuid4()),\n",
    "        page_content=chunk,\n",
    "        metadata={\n",
    "            'name': 'kanji',\n",
    "            'source': 'https://es.wikipedia.org/wiki/Kanji',\n",
    "            'generation': 6,\n",
    "            'image_src': 'https://upload.wikimedia.org/wikipedia/commons/thumb/9/95/Kanji_furigana.svg/163px-Kanji_furigana.svg.png'\n",
    "        }\n",
    "    )\n",
    "\n",
    "    vector_store.add_documents([document])"
   ]
  },
  {
   "cell_type": "code",
   "execution_count": null,
   "id": "947ef043",
   "metadata": {},
   "outputs": [],
   "source": [
    "vector_store.similarity_search(\"Que es un kanji?\", k=5)"
   ]
  },
  {
   "cell_type": "code",
   "execution_count": null,
   "id": "1c430d06",
   "metadata": {},
   "outputs": [],
   "source": [
    "pdf_document = PyPDFLoader('./database/docs/KanjiParaRecordar.pdf')\n",
    "pdf_pages = pdf_document.load()"
   ]
  },
  {
   "cell_type": "code",
   "execution_count": null,
   "id": "d7b9a17d",
   "metadata": {},
   "outputs": [],
   "source": [
    "pdf_chunks = text_splitter.split_documents(pdf_pages)\n",
    "print(len(pdf_chunks))"
   ]
  },
  {
   "cell_type": "code",
   "execution_count": null,
   "id": "e27cf559",
   "metadata": {},
   "outputs": [],
   "source": [
    "for chunk in pdf_chunks:\n",
    "    chunk.id = str(uuid.uuid4())\n",
    "    chunk.metadata = {\n",
    "        \"name\": \"diccionario\"\n",
    "    }"
   ]
  },
  {
   "cell_type": "code",
   "execution_count": null,
   "id": "cd6202fc",
   "metadata": {},
   "outputs": [],
   "source": [
    "vector_store.add_documents(pdf_chunks)"
   ]
  },
  {
   "cell_type": "code",
   "execution_count": null,
   "id": "3c210fa3",
   "metadata": {},
   "outputs": [],
   "source": [
    "vector_store.similarity_search(\"Que es la megaevolucion?\", k=5)"
   ]
  }
 ],
 "metadata": {
  "kernelspec": {
   "display_name": "rag-sensei-env",
   "language": "python",
   "name": "python3"
  },
  "language_info": {
   "codemirror_mode": {
    "name": "ipython",
    "version": 3
   },
   "file_extension": ".py",
   "mimetype": "text/x-python",
   "name": "python",
   "nbconvert_exporter": "python",
   "pygments_lexer": "ipython3",
   "version": "3.13.1"
  }
 },
 "nbformat": 4,
 "nbformat_minor": 5
}
