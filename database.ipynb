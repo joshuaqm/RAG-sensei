{
 "cells": [
  {
   "cell_type": "code",
   "execution_count": 34,
   "id": "4677a97c",
   "metadata": {},
   "outputs": [],
   "source": [
    "from langchain_ollama import OllamaEmbeddings\n",
    "from langchain_text_splitters import RecursiveCharacterTextSplitter\n",
    "\n",
    "from langchain_core.documents import Document\n",
    "from langchain_chroma import Chroma\n",
    "\n",
    "import uuid\n",
    "from langchain_community.document_loaders import PyPDFLoader"
   ]
  },
  {
   "cell_type": "code",
   "execution_count": 35,
   "id": "15371c66",
   "metadata": {},
   "outputs": [],
   "source": [
    "text_splitter = RecursiveCharacterTextSplitter(\n",
    "    chunk_size=510, \n",
    "    chunk_overlap=50,\n",
    "    length_function=len,\n",
    "    separators=[\"\\n\", \".\", \"\\n\\n\"]\n",
    ")"
   ]
  },
  {
   "cell_type": "code",
   "execution_count": 36,
   "id": "ee3a36dd",
   "metadata": {},
   "outputs": [],
   "source": [
    "# Probar distintos modelos de embeddings\n",
    "embeddings_generator = OllamaEmbeddings(\n",
    "    model='mxbai-embed-large:latest',\n",
    ")"
   ]
  },
  {
   "cell_type": "code",
   "execution_count": 37,
   "id": "9691a8c0",
   "metadata": {},
   "outputs": [],
   "source": [
    "chroma_db_path = \"./database/chroma_db\"\n",
    "\n",
    "vector_store = Chroma(\n",
    "    persist_directory=chroma_db_path,\n",
    "    embedding_function=embeddings_generator,\n",
    "    collection_name=\"kanji\"\n",
    ")"
   ]
  },
  {
   "cell_type": "code",
   "execution_count": 38,
   "id": "74065306",
   "metadata": {},
   "outputs": [
    {
     "name": "stdout",
     "output_type": "stream",
     "text": [
      "12899\n"
     ]
    }
   ],
   "source": [
    "# Documentos txt\n",
    "txt_path = './database/docs/txt/kanji-1.txt'\n",
    "txt_text = ''\n",
    "\n",
    "with open(txt_path, 'r', encoding='utf-8') as file:\n",
    "    txt_text = file.read()\n",
    "\n",
    "print(len(txt_text))"
   ]
  },
  {
   "cell_type": "code",
   "execution_count": 39,
   "id": "ea815a00",
   "metadata": {},
   "outputs": [
    {
     "name": "stdout",
     "output_type": "stream",
     "text": [
      "39\n"
     ]
    }
   ],
   "source": [
    "text_chunks = text_splitter.split_text(txt_text)\n",
    "print(len(text_chunks))"
   ]
  },
  {
   "cell_type": "code",
   "execution_count": null,
   "id": "8ccc4d47",
   "metadata": {},
   "outputs": [],
   "source": [
    "for chunk in text_chunks:\n",
    "    document = Document(\n",
    "        id=str(uuid.uuid4()),\n",
    "        page_content=chunk,\n",
    "        metadata={\n",
    "            'name': 'kanji',\n",
    "            'source': 'https://mirandohaciajapon.com/el-kanji-su-utilidad-y-funcion/',\n",
    "            'generation': 6,\n",
    "            'image_src': 'https://mirandohaciajapon.com/wp-content/uploads/2016/09/kanji-japon-768x574.jpg'\n",
    "        }\n",
    "    )\n",
    "\n",
    "    vector_store.add_documents([document])"
   ]
  },
  {
   "cell_type": "code",
   "execution_count": 41,
   "id": "947ef043",
   "metadata": {},
   "outputs": [
    {
     "data": {
      "text/plain": [
       "[Document(id='ed407d8f-1326-4eb2-b908-5790181883ca', metadata={'name': 'kanji', 'generation': 6, 'image_src': 'https://upload.wikimedia.org/wikipedia/commons/thumb/9/95/Kanji_furigana.svg/163px-Kanji_furigana.svg.png', 'source': 'https://es.wikipedia.org/wiki/Kanji'}, page_content=\"Una sucesión de kanjis en una palabra suele dar una lectura on'yomi. Tomemos el mismo kanji del ejemplo anterior, 'ver' (見る miru?), que cuando se usa en combinación con otro, se puede leer 'ken', como en 'opinión' / 'punto de vista' (意見 iken?). Esta regla también tiene excepciones, palabras que aunque se representan con una combinación de kanjis, tienen una lectura kun'yomi. Por ejemplo, 'carta' (手紙 tegami?).\\n\\nLos kanjis oficiales\"),\n",
       " Document(id='3138acb9-277f-4f71-9327-aee0d24de967', metadata={'image_src': 'https://upload.wikimedia.org/wikipedia/commons/thumb/9/95/Kanji_furigana.svg/163px-Kanji_furigana.svg.png', 'generation': 6, 'name': 'kanji', 'source': 'https://es.wikipedia.org/wiki/Kanji'}, page_content=\"La manera en que se lee un kanji depende del contexto y de dos reglas generales (en las cuales hay muchas excepciones):\\nUna palabra de un solo kanji o seguida de okurigana se lee como kun'yomi. Tal es el caso de los verbos; por ejemplo, 'ver' (見る miru?), tiene un okurigana que le da lectura japonesa. Como excepciones, destacan algunos verbos que, aun combinados con el hiragana suru o jiru, conservan su pronunciación on yomi: 'nacer' (生じる shoujiru?), 'necesitar' (要する yousuru?)\"),\n",
       " Document(id='93228dbf-b089-4da7-a1f9-7e08b980fe8e', metadata={'name': 'kanji', 'source': 'https://es.wikipedia.org/wiki/Kanji', 'image_src': 'https://upload.wikimedia.org/wikipedia/commons/thumb/9/95/Kanji_furigana.svg/163px-Kanji_furigana.svg.png', 'generation': 6}, page_content='Kanji\\nLos kanji (漢字 kanji?, literalmente «carácter Chino» o «letra han») son los sinogramas utilizados en la escritura del idioma japonés. Los kanji son uno de los tres sistemas de escritura japoneses junto con los silabarios hiragana y katakana, para los que existen reglas generales a la hora de combinarlos, pues cada uno tiene una función diferente.'),\n",
       " Document(id='cc4c6d3e-50ce-49ba-b539-1844e55fb278', metadata={'name': 'kanji', 'source': 'https://es.wikipedia.org/wiki/Kanji', 'generation': 6, 'image_src': 'https://upload.wikimedia.org/wikipedia/commons/thumb/9/95/Kanji_furigana.svg/163px-Kanji_furigana.svg.png'}, page_content=\"Un kanji puede tener diferentes pronunciaciones, o «lecturas», dependiendo del contexto, uso en combinación y su localización en la oración. Estas lecturas son categorizadas dependiendo de si provienen del chino original, on'yomi (音読み?) o si fueron adaptadas a la lengua nativa kun'yomi (訓読み?)\"),\n",
       " Document(id='c2794fc8-2477-4198-9081-b0c938c082aa', metadata={'image_src': 'https://upload.wikimedia.org/wikipedia/commons/thumb/9/95/Kanji_furigana.svg/163px-Kanji_furigana.svg.png', 'generation': 6, 'source': 'https://es.wikipedia.org/wiki/Kanji', 'name': 'kanji'}, page_content='A cada kanji le corresponde un significado y se usa como determinante de la raíz de la palabra; las derivaciones, conjugaciones y accidentes se expresan mediante el kana[2]\\u200b (sobre todo hiragana), que en dicho caso se denomina okurigana. De esta forma, conviven tanto el sistema de escritura autóctono (pero sacado de la misma escritura han) y el sistema importado (es decir, los kanji).')]"
      ]
     },
     "execution_count": 41,
     "metadata": {},
     "output_type": "execute_result"
    }
   ],
   "source": [
    "vector_store.similarity_search(\"Que es un kanji?\", k=5)"
   ]
  },
  {
   "cell_type": "code",
   "execution_count": null,
   "id": "1c430d06",
   "metadata": {},
   "outputs": [],
   "source": [
    "pdf_document = PyPDFLoader('./database/docs/PDF/KanjiParaRecordar.pdf')\n",
    "pdf_pages = pdf_document.load()"
   ]
  },
  {
   "cell_type": "code",
   "execution_count": null,
   "id": "d7b9a17d",
   "metadata": {},
   "outputs": [],
   "source": [
    "pdf_chunks = text_splitter.split_documents(pdf_pages)\n",
    "print(len(pdf_chunks))"
   ]
  },
  {
   "cell_type": "code",
   "execution_count": null,
   "id": "e27cf559",
   "metadata": {},
   "outputs": [],
   "source": [
    "for chunk in pdf_chunks:\n",
    "    chunk.id = str(uuid.uuid4())\n",
    "    chunk.metadata = {\n",
    "        \"name\": \"definicion\"\n",
    "    }"
   ]
  },
  {
   "cell_type": "code",
   "execution_count": null,
   "id": "cd6202fc",
   "metadata": {},
   "outputs": [],
   "source": [
    "vector_store.add_documents(pdf_chunks)"
   ]
  },
  {
   "cell_type": "code",
   "execution_count": null,
   "id": "3c210fa3",
   "metadata": {},
   "outputs": [],
   "source": [
    "vector_store.similarity_search(\"Que es la megaevolucion?\", k=5)"
   ]
  },
  {
   "cell_type": "code",
   "execution_count": 32,
   "id": "1c31d6c2",
   "metadata": {},
   "outputs": [
    {
     "ename": "ValueError",
     "evalue": "Chroma collection not initialized. Use `reset_collection` to re-create and initialize the collection. ",
     "output_type": "error",
     "traceback": [
      "\u001b[31m---------------------------------------------------------------------------\u001b[39m",
      "\u001b[31mValueError\u001b[39m                                Traceback (most recent call last)",
      "\u001b[36mCell\u001b[39m\u001b[36m \u001b[39m\u001b[32mIn[32]\u001b[39m\u001b[32m, line 2\u001b[39m\n\u001b[32m      1\u001b[39m \u001b[38;5;66;03m# Para eliminar la colección\u001b[39;00m\n\u001b[32m----> \u001b[39m\u001b[32m2\u001b[39m \u001b[43mvector_store\u001b[49m\u001b[43m.\u001b[49m\u001b[43mdelete_collection\u001b[49m\u001b[43m(\u001b[49m\u001b[43m)\u001b[49m\n\u001b[32m      3\u001b[39m vector_store.reset_collection()\n",
      "\u001b[36mFile \u001b[39m\u001b[32mc:\\Users\\joshu\\OneDrive\\Documentos\\GitHub\\RAG-Sensei\\rag-sensei-env\\Lib\\site-packages\\langchain_chroma\\vectorstores.py:985\u001b[39m, in \u001b[36mChroma.delete_collection\u001b[39m\u001b[34m(self)\u001b[39m\n\u001b[32m    983\u001b[39m \u001b[38;5;28;01mdef\u001b[39;00m\u001b[38;5;250m \u001b[39m\u001b[34mdelete_collection\u001b[39m(\u001b[38;5;28mself\u001b[39m) -> \u001b[38;5;28;01mNone\u001b[39;00m:\n\u001b[32m    984\u001b[39m \u001b[38;5;250m    \u001b[39m\u001b[33;03m\"\"\"Delete the collection.\"\"\"\u001b[39;00m\n\u001b[32m--> \u001b[39m\u001b[32m985\u001b[39m     \u001b[38;5;28mself\u001b[39m._client.delete_collection(\u001b[38;5;28;43mself\u001b[39;49m\u001b[43m.\u001b[49m\u001b[43m_collection\u001b[49m.name)\n\u001b[32m    986\u001b[39m     \u001b[38;5;28mself\u001b[39m._chroma_collection = \u001b[38;5;28;01mNone\u001b[39;00m\n",
      "\u001b[36mFile \u001b[39m\u001b[32mc:\\Users\\joshu\\OneDrive\\Documentos\\GitHub\\RAG-Sensei\\rag-sensei-env\\Lib\\site-packages\\langchain_chroma\\vectorstores.py:354\u001b[39m, in \u001b[36mChroma._collection\u001b[39m\u001b[34m(self)\u001b[39m\n\u001b[32m    352\u001b[39m \u001b[38;5;250m\u001b[39m\u001b[33;03m\"\"\"Returns the underlying Chroma collection or throws an exception.\"\"\"\u001b[39;00m\n\u001b[32m    353\u001b[39m \u001b[38;5;28;01mif\u001b[39;00m \u001b[38;5;28mself\u001b[39m._chroma_collection \u001b[38;5;129;01mis\u001b[39;00m \u001b[38;5;28;01mNone\u001b[39;00m:\n\u001b[32m--> \u001b[39m\u001b[32m354\u001b[39m     \u001b[38;5;28;01mraise\u001b[39;00m \u001b[38;5;167;01mValueError\u001b[39;00m(\n\u001b[32m    355\u001b[39m         \u001b[33m\"\u001b[39m\u001b[33mChroma collection not initialized. \u001b[39m\u001b[33m\"\u001b[39m\n\u001b[32m    356\u001b[39m         \u001b[33m\"\u001b[39m\u001b[33mUse `reset_collection` to re-create and initialize the collection. \u001b[39m\u001b[33m\"\u001b[39m\n\u001b[32m    357\u001b[39m     )\n\u001b[32m    358\u001b[39m \u001b[38;5;28;01mreturn\u001b[39;00m \u001b[38;5;28mself\u001b[39m._chroma_collection\n",
      "\u001b[31mValueError\u001b[39m: Chroma collection not initialized. Use `reset_collection` to re-create and initialize the collection. "
     ]
    }
   ],
   "source": [
    "\n",
    "# Para eliminar la colección\n",
    "vector_store.delete_collection()\n",
    "vector_store.reset_collection()"
   ]
  }
 ],
 "metadata": {
  "kernelspec": {
   "display_name": "rag-sensei-env",
   "language": "python",
   "name": "python3"
  },
  "language_info": {
   "codemirror_mode": {
    "name": "ipython",
    "version": 3
   },
   "file_extension": ".py",
   "mimetype": "text/x-python",
   "name": "python",
   "nbconvert_exporter": "python",
   "pygments_lexer": "ipython3",
   "version": "3.13.1"
  }
 },
 "nbformat": 4,
 "nbformat_minor": 5
}
