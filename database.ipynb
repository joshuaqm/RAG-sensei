{
 "cells": [
  {
   "cell_type": "code",
   "execution_count": 1,
   "id": "4677a97c",
   "metadata": {},
   "outputs": [],
   "source": [
    "from langchain_ollama import OllamaEmbeddings\n",
    "from langchain_text_splitters import RecursiveCharacterTextSplitter\n",
    "\n",
    "from langchain_core.documents import Document\n",
    "from langchain_chroma import Chroma\n",
    "\n",
    "import uuid\n",
    "from langchain_community.document_loaders import PyPDFLoader"
   ]
  },
  {
   "cell_type": "code",
   "execution_count": null,
   "id": "15371c66",
   "metadata": {},
   "outputs": [],
   "source": [
    "text_splitter = RecursiveCharacterTextSplitter(\n",
    "    chunk_size=510, \n",
    "    chunk_overlap=50,\n",
    "    length_function=len,\n",
    "    separators=[\"\\n\", \".\", \"\\n\\n\"]\n",
    ")"
   ]
  },
  {
   "cell_type": "code",
   "execution_count": null,
   "id": "ee3a36dd",
   "metadata": {},
   "outputs": [],
   "source": [
    "# Probar distintos modelos de embeddings\n",
    "embeddings_generator = OllamaEmbeddings(\n",
    "    model='mxbai-embed-large:latest',\n",
    ")"
   ]
  },
  {
   "cell_type": "code",
   "execution_count": null,
   "id": "9691a8c0",
   "metadata": {},
   "outputs": [],
   "source": [
    "chroma_db_path = \"./database/chroma_db\"\n",
    "\n",
    "vector_store = Chroma(\n",
    "    persist_directory=chroma_db_path,\n",
    "    embedding_function=embeddings_generator,\n",
    "    collection_name=\"kanji\"\n",
    ")"
   ]
  },
  {
   "cell_type": "code",
   "execution_count": null,
   "id": "74065306",
   "metadata": {},
   "outputs": [],
   "source": [
    "# Documentos txt\n",
    "txt_path = './database/docs/'\n",
    "txt_text = ''\n",
    "\n",
    "with open(txt_path, 'r') as file:\n",
    "    txt_text = file.read()\n",
    "\n",
    "print(len(txt_text))"
   ]
  },
  {
   "cell_type": "code",
   "execution_count": null,
   "id": "ea815a00",
   "metadata": {},
   "outputs": [],
   "source": [
    "text_chunks = text_splitter.split_text(txt_text)\n",
    "print(len(text_chunks))"
   ]
  },
  {
   "cell_type": "code",
   "execution_count": null,
   "id": "8ccc4d47",
   "metadata": {},
   "outputs": [],
   "source": [
    "for chunk in text_chunks:\n",
    "    document = Document(\n",
    "        id=str(uuid.uuid4()),\n",
    "        page_content=chunk,\n",
    "        metadata={\n",
    "            'name': 'kanji',\n",
    "            'source': 'https://es.wikipedia.org/wiki/Kanji',\n",
    "            'generation': 6,\n",
    "            'image_src': 'https://upload.wikimedia.org/wikipedia/commons/thumb/9/95/Kanji_furigana.svg/163px-Kanji_furigana.svg.png'\n",
    "        }\n",
    "    )\n",
    "\n",
    "    vector_store.add_documents([document])"
   ]
  },
  {
   "cell_type": "code",
   "execution_count": null,
   "id": "947ef043",
   "metadata": {},
   "outputs": [],
   "source": [
    "vector_store.similarity_search(\"Que es un kanji?\", k=5)"
   ]
  },
  {
   "cell_type": "code",
   "execution_count": null,
   "id": "1c430d06",
   "metadata": {},
   "outputs": [],
   "source": [
    "pdf_document = PyPDFLoader('./database/docs/KanjiParaRecordar.pdf')\n",
    "pdf_pages = pdf_document.load()"
   ]
  },
  {
   "cell_type": "code",
   "execution_count": null,
   "id": "d7b9a17d",
   "metadata": {},
   "outputs": [],
   "source": [
    "pdf_chunks = text_splitter.split_documents(pdf_pages)\n",
    "print(len(pdf_chunks))"
   ]
  },
  {
   "cell_type": "code",
   "execution_count": null,
   "id": "e27cf559",
   "metadata": {},
   "outputs": [],
   "source": [
    "for chunk in pdf_chunks:\n",
    "    chunk.id = str(uuid.uuid4())\n",
    "    chunk.metadata = {\n",
    "        \"name\": \"diccionario\"\n",
    "    }"
   ]
  },
  {
   "cell_type": "code",
   "execution_count": null,
   "id": "cd6202fc",
   "metadata": {},
   "outputs": [],
   "source": [
    "vector_store.add_documents(pdf_chunks)"
   ]
  },
  {
   "cell_type": "code",
   "execution_count": null,
   "id": "3c210fa3",
   "metadata": {},
   "outputs": [],
   "source": [
    "vector_store.similarity_search(\"Que es la megaevolucion?\", k=5)"
   ]
  }
 ],
 "metadata": {
  "kernelspec": {
   "display_name": "rag-sensei-env",
   "language": "python",
   "name": "python3"
  },
  "language_info": {
   "codemirror_mode": {
    "name": "ipython",
    "version": 3
   },
   "file_extension": ".py",
   "mimetype": "text/x-python",
   "name": "python",
   "nbconvert_exporter": "python",
   "pygments_lexer": "ipython3",
   "version": "3.13.1"
  }
 },
 "nbformat": 4,
 "nbformat_minor": 5
}
