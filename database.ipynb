{
 "cells": [
  {
   "cell_type": "code",
   "execution_count": 1,
   "id": "4677a97c",
   "metadata": {},
   "outputs": [],
   "source": [
    "from langchain_ollama import OllamaEmbeddings\n",
    "from langchain_text_splitters import RecursiveCharacterTextSplitter\n",
    "\n",
    "from langchain_core.documents import Document\n",
    "from langchain_chroma import Chroma\n",
    "\n",
    "import uuid\n",
    "from langchain_community.document_loaders import PyPDFLoader"
   ]
  },
  {
   "cell_type": "code",
   "execution_count": 2,
   "id": "15371c66",
   "metadata": {},
   "outputs": [],
   "source": [
    "text_splitter = RecursiveCharacterTextSplitter(\n",
    "    chunk_size=510, \n",
    "    chunk_overlap=50,\n",
    "    length_function=len,\n",
    "    separators=[\"\\n\", \".\", \"\\n\\n\"]\n",
    ")"
   ]
  },
  {
   "cell_type": "code",
   "execution_count": 3,
   "id": "ee3a36dd",
   "metadata": {},
   "outputs": [],
   "source": [
    "# Probar distintos modelos de embeddings\n",
    "embeddings_generator = OllamaEmbeddings(\n",
    "    model='mxbai-embed-large:latest',\n",
    ")"
   ]
  },
  {
   "cell_type": "code",
   "execution_count": 18,
   "id": "9691a8c0",
   "metadata": {},
   "outputs": [],
   "source": [
    "chroma_db_path = \"./database/chroma_db\"\n",
    "\n",
    "vector_store = Chroma(\n",
    "    persist_directory=chroma_db_path,\n",
    "    embedding_function=embeddings_generator,\n",
    "    collection_name=\"kanji\"\n",
    ")"
   ]
  },
  {
   "cell_type": "code",
   "execution_count": null,
   "id": "74065306",
   "metadata": {},
   "outputs": [
    {
     "name": "stdout",
     "output_type": "stream",
     "text": [
      "4790\n"
     ]
    }
   ],
   "source": [
    "# Documentos txt\n",
    "txt_path = './database/docs/txt/kanji-1.txt'\n",
    "txt_text = ''\n",
    "\n",
    "with open(txt_path, 'r', encoding='utf-8') as file:\n",
    "    txt_text = file.read()\n",
    "\n",
    "print(len(txt_text))"
   ]
  },
  {
   "cell_type": "code",
   "execution_count": 24,
   "id": "ea815a00",
   "metadata": {},
   "outputs": [
    {
     "name": "stdout",
     "output_type": "stream",
     "text": [
      "12\n"
     ]
    }
   ],
   "source": [
    "text_chunks = text_splitter.split_text(txt_text)\n",
    "print(len(text_chunks))"
   ]
  },
  {
   "cell_type": "code",
   "execution_count": 25,
   "id": "8ccc4d47",
   "metadata": {},
   "outputs": [],
   "source": [
    "for chunk in text_chunks:\n",
    "    document = Document(\n",
    "        id=str(uuid.uuid4()),\n",
    "        page_content=chunk,\n",
    "        metadata={\n",
    "            'name': 'kanji',\n",
    "            'source': 'https://es.wikipedia.org/wiki/Kanji',\n",
    "            'generation': 6,\n",
    "            'image_src': 'https://upload.wikimedia.org/wikipedia/commons/thumb/9/95/Kanji_furigana.svg/163px-Kanji_furigana.svg.png'\n",
    "        }\n",
    "    )\n",
    "\n",
    "    vector_store.add_documents([document])"
   ]
  },
  {
   "cell_type": "code",
   "execution_count": 28,
   "id": "947ef043",
   "metadata": {},
   "outputs": [
    {
     "ename": "ValueError",
     "evalue": "Chroma collection not initialized. Use `reset_collection` to re-create and initialize the collection. ",
     "output_type": "error",
     "traceback": [
      "\u001b[31m---------------------------------------------------------------------------\u001b[39m",
      "\u001b[31mValueError\u001b[39m                                Traceback (most recent call last)",
      "\u001b[36mCell\u001b[39m\u001b[36m \u001b[39m\u001b[32mIn[28]\u001b[39m\u001b[32m, line 1\u001b[39m\n\u001b[32m----> \u001b[39m\u001b[32m1\u001b[39m \u001b[43mvector_store\u001b[49m\u001b[43m.\u001b[49m\u001b[43msimilarity_search\u001b[49m\u001b[43m(\u001b[49m\u001b[33;43m\"\u001b[39;49m\u001b[33;43mQue es un kanji?\u001b[39;49m\u001b[33;43m\"\u001b[39;49m\u001b[43m,\u001b[49m\u001b[43m \u001b[49m\u001b[43mk\u001b[49m\u001b[43m=\u001b[49m\u001b[32;43m5\u001b[39;49m\u001b[43m)\u001b[49m\n",
      "\u001b[36mFile \u001b[39m\u001b[32mc:\\Users\\joshu\\OneDrive\\Documentos\\GitHub\\RAG-Sensei\\rag-sensei-env\\Lib\\site-packages\\langchain_chroma\\vectorstores.py:603\u001b[39m, in \u001b[36mChroma.similarity_search\u001b[39m\u001b[34m(self, query, k, filter, **kwargs)\u001b[39m\n\u001b[32m    585\u001b[39m \u001b[38;5;28;01mdef\u001b[39;00m\u001b[38;5;250m \u001b[39m\u001b[34msimilarity_search\u001b[39m(\n\u001b[32m    586\u001b[39m     \u001b[38;5;28mself\u001b[39m,\n\u001b[32m    587\u001b[39m     query: \u001b[38;5;28mstr\u001b[39m,\n\u001b[32m   (...)\u001b[39m\u001b[32m    590\u001b[39m     **kwargs: Any,\n\u001b[32m    591\u001b[39m ) -> \u001b[38;5;28mlist\u001b[39m[Document]:\n\u001b[32m    592\u001b[39m \u001b[38;5;250m    \u001b[39m\u001b[33;03m\"\"\"Run similarity search with Chroma.\u001b[39;00m\n\u001b[32m    593\u001b[39m \n\u001b[32m    594\u001b[39m \u001b[33;03m    Args:\u001b[39;00m\n\u001b[32m   (...)\u001b[39m\u001b[32m    601\u001b[39m \u001b[33;03m        List of documents most similar to the query text.\u001b[39;00m\n\u001b[32m    602\u001b[39m \u001b[33;03m    \"\"\"\u001b[39;00m\n\u001b[32m--> \u001b[39m\u001b[32m603\u001b[39m     docs_and_scores = \u001b[38;5;28;43mself\u001b[39;49m\u001b[43m.\u001b[49m\u001b[43msimilarity_search_with_score\u001b[49m\u001b[43m(\u001b[49m\n\u001b[32m    604\u001b[39m \u001b[43m        \u001b[49m\u001b[43mquery\u001b[49m\u001b[43m,\u001b[49m\u001b[43m \u001b[49m\u001b[43mk\u001b[49m\u001b[43m,\u001b[49m\u001b[43m \u001b[49m\u001b[38;5;28;43mfilter\u001b[39;49m\u001b[43m=\u001b[49m\u001b[38;5;28;43mfilter\u001b[39;49m\u001b[43m,\u001b[49m\u001b[43m \u001b[49m\u001b[43m*\u001b[49m\u001b[43m*\u001b[49m\u001b[43mkwargs\u001b[49m\n\u001b[32m    605\u001b[39m \u001b[43m    \u001b[49m\u001b[43m)\u001b[49m\n\u001b[32m    606\u001b[39m     \u001b[38;5;28;01mreturn\u001b[39;00m [doc \u001b[38;5;28;01mfor\u001b[39;00m doc, _ \u001b[38;5;129;01min\u001b[39;00m docs_and_scores]\n",
      "\u001b[36mFile \u001b[39m\u001b[32mc:\\Users\\joshu\\OneDrive\\Documentos\\GitHub\\RAG-Sensei\\rag-sensei-env\\Lib\\site-packages\\langchain_chroma\\vectorstores.py:701\u001b[39m, in \u001b[36mChroma.similarity_search_with_score\u001b[39m\u001b[34m(self, query, k, filter, where_document, **kwargs)\u001b[39m\n\u001b[32m    699\u001b[39m \u001b[38;5;28;01melse\u001b[39;00m:\n\u001b[32m    700\u001b[39m     query_embedding = \u001b[38;5;28mself\u001b[39m._embedding_function.embed_query(query)\n\u001b[32m--> \u001b[39m\u001b[32m701\u001b[39m     results = \u001b[38;5;28;43mself\u001b[39;49m\u001b[43m.\u001b[49m\u001b[43m__query_collection\u001b[49m\u001b[43m(\u001b[49m\n\u001b[32m    702\u001b[39m \u001b[43m        \u001b[49m\u001b[43mquery_embeddings\u001b[49m\u001b[43m=\u001b[49m\u001b[43m[\u001b[49m\u001b[43mquery_embedding\u001b[49m\u001b[43m]\u001b[49m\u001b[43m,\u001b[49m\n\u001b[32m    703\u001b[39m \u001b[43m        \u001b[49m\u001b[43mn_results\u001b[49m\u001b[43m=\u001b[49m\u001b[43mk\u001b[49m\u001b[43m,\u001b[49m\n\u001b[32m    704\u001b[39m \u001b[43m        \u001b[49m\u001b[43mwhere\u001b[49m\u001b[43m=\u001b[49m\u001b[38;5;28;43mfilter\u001b[39;49m\u001b[43m,\u001b[49m\n\u001b[32m    705\u001b[39m \u001b[43m        \u001b[49m\u001b[43mwhere_document\u001b[49m\u001b[43m=\u001b[49m\u001b[43mwhere_document\u001b[49m\u001b[43m,\u001b[49m\n\u001b[32m    706\u001b[39m \u001b[43m        \u001b[49m\u001b[43m*\u001b[49m\u001b[43m*\u001b[49m\u001b[43mkwargs\u001b[49m\u001b[43m,\u001b[49m\n\u001b[32m    707\u001b[39m \u001b[43m    \u001b[49m\u001b[43m)\u001b[49m\n\u001b[32m    709\u001b[39m \u001b[38;5;28;01mreturn\u001b[39;00m _results_to_docs_and_scores(results)\n",
      "\u001b[36mFile \u001b[39m\u001b[32mc:\\Users\\joshu\\OneDrive\\Documentos\\GitHub\\RAG-Sensei\\rag-sensei-env\\Lib\\site-packages\\langchain_core\\utils\\utils.py:54\u001b[39m, in \u001b[36mxor_args.<locals>.decorator.<locals>.wrapper\u001b[39m\u001b[34m(*args, **kwargs)\u001b[39m\n\u001b[32m     48\u001b[39m     msg = (\n\u001b[32m     49\u001b[39m         \u001b[33m\"\u001b[39m\u001b[33mExactly one argument in each of the following\u001b[39m\u001b[33m\"\u001b[39m\n\u001b[32m     50\u001b[39m         \u001b[33m\"\u001b[39m\u001b[33m groups must be defined:\u001b[39m\u001b[33m\"\u001b[39m\n\u001b[32m     51\u001b[39m         \u001b[33mf\u001b[39m\u001b[33m\"\u001b[39m\u001b[33m \u001b[39m\u001b[38;5;132;01m{\u001b[39;00m\u001b[33m'\u001b[39m\u001b[33m, \u001b[39m\u001b[33m'\u001b[39m.join(invalid_group_names)\u001b[38;5;132;01m}\u001b[39;00m\u001b[33m\"\u001b[39m\n\u001b[32m     52\u001b[39m     )\n\u001b[32m     53\u001b[39m     \u001b[38;5;28;01mraise\u001b[39;00m \u001b[38;5;167;01mValueError\u001b[39;00m(msg)\n\u001b[32m---> \u001b[39m\u001b[32m54\u001b[39m \u001b[38;5;28;01mreturn\u001b[39;00m \u001b[43mfunc\u001b[49m\u001b[43m(\u001b[49m\u001b[43m*\u001b[49m\u001b[43margs\u001b[49m\u001b[43m,\u001b[49m\u001b[43m \u001b[49m\u001b[43m*\u001b[49m\u001b[43m*\u001b[49m\u001b[43mkwargs\u001b[49m\u001b[43m)\u001b[49m\n",
      "\u001b[36mFile \u001b[39m\u001b[32mc:\\Users\\joshu\\OneDrive\\Documentos\\GitHub\\RAG-Sensei\\rag-sensei-env\\Lib\\site-packages\\langchain_chroma\\vectorstores.py:393\u001b[39m, in \u001b[36mChroma.__query_collection\u001b[39m\u001b[34m(self, query_texts, query_embeddings, n_results, where, where_document, **kwargs)\u001b[39m\n\u001b[32m    365\u001b[39m \u001b[38;5;129m@xor_args\u001b[39m((\u001b[33m\"\u001b[39m\u001b[33mquery_texts\u001b[39m\u001b[33m\"\u001b[39m, \u001b[33m\"\u001b[39m\u001b[33mquery_embeddings\u001b[39m\u001b[33m\"\u001b[39m))\n\u001b[32m    366\u001b[39m \u001b[38;5;28;01mdef\u001b[39;00m\u001b[38;5;250m \u001b[39m\u001b[34m__query_collection\u001b[39m(\n\u001b[32m    367\u001b[39m     \u001b[38;5;28mself\u001b[39m,\n\u001b[32m   (...)\u001b[39m\u001b[32m    373\u001b[39m     **kwargs: Any,\n\u001b[32m    374\u001b[39m ) -> Union[\u001b[38;5;28mlist\u001b[39m[Document], chromadb.QueryResult]:\n\u001b[32m    375\u001b[39m \u001b[38;5;250m    \u001b[39m\u001b[33;03m\"\"\"Query the chroma collection.\u001b[39;00m\n\u001b[32m    376\u001b[39m \n\u001b[32m    377\u001b[39m \u001b[33;03m    Args:\u001b[39;00m\n\u001b[32m   (...)\u001b[39m\u001b[32m    391\u001b[39m \u001b[33;03m    See more: https://docs.trychroma.com/reference/py-collection#query\u001b[39;00m\n\u001b[32m    392\u001b[39m \u001b[33;03m    \"\"\"\u001b[39;00m\n\u001b[32m--> \u001b[39m\u001b[32m393\u001b[39m     \u001b[38;5;28;01mreturn\u001b[39;00m \u001b[38;5;28;43mself\u001b[39;49m\u001b[43m.\u001b[49m\u001b[43m_collection\u001b[49m.query(\n\u001b[32m    394\u001b[39m         query_texts=query_texts,\n\u001b[32m    395\u001b[39m         query_embeddings=query_embeddings,  \u001b[38;5;66;03m# type: ignore\u001b[39;00m\n\u001b[32m    396\u001b[39m         n_results=n_results,\n\u001b[32m    397\u001b[39m         where=where,  \u001b[38;5;66;03m# type: ignore\u001b[39;00m\n\u001b[32m    398\u001b[39m         where_document=where_document,  \u001b[38;5;66;03m# type: ignore\u001b[39;00m\n\u001b[32m    399\u001b[39m         **kwargs,\n\u001b[32m    400\u001b[39m     )\n",
      "\u001b[36mFile \u001b[39m\u001b[32mc:\\Users\\joshu\\OneDrive\\Documentos\\GitHub\\RAG-Sensei\\rag-sensei-env\\Lib\\site-packages\\langchain_chroma\\vectorstores.py:354\u001b[39m, in \u001b[36mChroma._collection\u001b[39m\u001b[34m(self)\u001b[39m\n\u001b[32m    352\u001b[39m \u001b[38;5;250m\u001b[39m\u001b[33;03m\"\"\"Returns the underlying Chroma collection or throws an exception.\"\"\"\u001b[39;00m\n\u001b[32m    353\u001b[39m \u001b[38;5;28;01mif\u001b[39;00m \u001b[38;5;28mself\u001b[39m._chroma_collection \u001b[38;5;129;01mis\u001b[39;00m \u001b[38;5;28;01mNone\u001b[39;00m:\n\u001b[32m--> \u001b[39m\u001b[32m354\u001b[39m     \u001b[38;5;28;01mraise\u001b[39;00m \u001b[38;5;167;01mValueError\u001b[39;00m(\n\u001b[32m    355\u001b[39m         \u001b[33m\"\u001b[39m\u001b[33mChroma collection not initialized. \u001b[39m\u001b[33m\"\u001b[39m\n\u001b[32m    356\u001b[39m         \u001b[33m\"\u001b[39m\u001b[33mUse `reset_collection` to re-create and initialize the collection. \u001b[39m\u001b[33m\"\u001b[39m\n\u001b[32m    357\u001b[39m     )\n\u001b[32m    358\u001b[39m \u001b[38;5;28;01mreturn\u001b[39;00m \u001b[38;5;28mself\u001b[39m._chroma_collection\n",
      "\u001b[31mValueError\u001b[39m: Chroma collection not initialized. Use `reset_collection` to re-create and initialize the collection. "
     ]
    }
   ],
   "source": [
    "vector_store.similarity_search(\"Que es un kanji?\", k=5)"
   ]
  },
  {
   "cell_type": "code",
   "execution_count": null,
   "id": "1c430d06",
   "metadata": {},
   "outputs": [],
   "source": [
    "pdf_document = PyPDFLoader('./database/docs/PDF/KanjiParaRecordar.pdf')\n",
    "pdf_pages = pdf_document.load()"
   ]
  },
  {
   "cell_type": "code",
   "execution_count": null,
   "id": "d7b9a17d",
   "metadata": {},
   "outputs": [],
   "source": [
    "pdf_chunks = text_splitter.split_documents(pdf_pages)\n",
    "print(len(pdf_chunks))"
   ]
  },
  {
   "cell_type": "code",
   "execution_count": null,
   "id": "e27cf559",
   "metadata": {},
   "outputs": [],
   "source": [
    "for chunk in pdf_chunks:\n",
    "    chunk.id = str(uuid.uuid4())\n",
    "    chunk.metadata = {\n",
    "        \"name\": \"definicion\"\n",
    "    }"
   ]
  },
  {
   "cell_type": "code",
   "execution_count": null,
   "id": "cd6202fc",
   "metadata": {},
   "outputs": [],
   "source": [
    "vector_store.add_documents(pdf_chunks)"
   ]
  },
  {
   "cell_type": "code",
   "execution_count": null,
   "id": "3c210fa3",
   "metadata": {},
   "outputs": [],
   "source": [
    "vector_store.similarity_search(\"Que es la megaevolucion?\", k=5)"
   ]
  },
  {
   "cell_type": "code",
   "execution_count": 27,
   "id": "1c31d6c2",
   "metadata": {},
   "outputs": [],
   "source": [
    "\n",
    "# Para eliminar la colección\n",
    "vector_store.delete_collection()\n"
   ]
  }
 ],
 "metadata": {
  "kernelspec": {
   "display_name": "rag-sensei-env",
   "language": "python",
   "name": "python3"
  },
  "language_info": {
   "codemirror_mode": {
    "name": "ipython",
    "version": 3
   },
   "file_extension": ".py",
   "mimetype": "text/x-python",
   "name": "python",
   "nbconvert_exporter": "python",
   "pygments_lexer": "ipython3",
   "version": "3.13.1"
  }
 },
 "nbformat": 4,
 "nbformat_minor": 5
}
